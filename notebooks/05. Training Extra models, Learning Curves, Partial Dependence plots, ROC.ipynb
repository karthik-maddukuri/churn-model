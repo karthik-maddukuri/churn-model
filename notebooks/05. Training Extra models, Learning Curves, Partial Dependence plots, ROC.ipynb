{
 "cells": [
  {
   "cell_type": "code",
   "execution_count": 1,
   "metadata": {},
   "outputs": [
    {
     "name": "stdout",
     "output_type": "stream",
     "text": [
      "/Users/karthikmaddukuri/anaconda3/envs/churn-model/bin/python3\r\n"
     ]
    }
   ],
   "source": [
    "!which python3"
   ]
  },
  {
   "cell_type": "code",
   "execution_count": 2,
   "metadata": {},
   "outputs": [],
   "source": [
    "%load_ext autoreload\n",
    "%autoreload 2"
   ]
  },
  {
   "cell_type": "code",
   "execution_count": 3,
   "metadata": {},
   "outputs": [],
   "source": [
    "# Standard imports\n",
    "import os\n",
    "import pickle\n",
    "import sys\n",
    "sys.path.append('..')  #To let jupyter notebook to look one folder up\n",
    "\n",
    "#Third-party imports\n",
    "import numpy as np\n",
    "import pandas as pd\n",
    "import matplotlib.pyplot as plt\n",
    "import seaborn as sns\n",
    "import sklearn\n",
    "from sklearn.ensemble import ( AdaBoostClassifier, GradientBoostingClassifier, \n",
    "                              RandomForestClassifier\n",
    "                             )\n",
    "from sklearn.inspection import plot_partial_dependence\n",
    "from sklearn.metrics import roc_curve\n",
    "from sklearn.linear_model import LogisticRegression\n",
    "from sklearn.model_selection import train_test_split, cross_val_score, learning_curve\n",
    "from sklearn.tree import DecisionTreeClassifier\n",
    "\n",
    "#Local imports\n",
    "from src.localpaths import *\n",
    "from src.data.make_dataset import load_training_data\n",
    "from src.models.train_model import *"
   ]
  },
  {
   "cell_type": "code",
   "execution_count": 4,
   "metadata": {},
   "outputs": [],
   "source": [
    "#Configuration for notebooks\n",
    "\n",
    "# pd.options.display.max_columns = 100\n",
    "pd.set_option('display.max_columns', 100)\n",
    "pd.set_option('display.max_rows', 100)"
   ]
  },
  {
   "cell_type": "markdown",
   "metadata": {},
   "source": [
    "# Load Featurized Data "
   ]
  },
  {
   "cell_type": "code",
   "execution_count": 5,
   "metadata": {},
   "outputs": [],
   "source": [
    "X_train, y_train = load_training_data(final=True)"
   ]
  },
  {
   "cell_type": "code",
   "execution_count": 6,
   "metadata": {},
   "outputs": [
    {
     "data": {
      "text/html": [
       "<div>\n",
       "<style scoped>\n",
       "    .dataframe tbody tr th:only-of-type {\n",
       "        vertical-align: middle;\n",
       "    }\n",
       "\n",
       "    .dataframe tbody tr th {\n",
       "        vertical-align: top;\n",
       "    }\n",
       "\n",
       "    .dataframe thead th {\n",
       "        text-align: right;\n",
       "    }\n",
       "</style>\n",
       "<table border=\"1\" class=\"dataframe\">\n",
       "  <thead>\n",
       "    <tr style=\"text-align: right;\">\n",
       "      <th></th>\n",
       "      <th>gender</th>\n",
       "      <th>SeniorCitizen</th>\n",
       "      <th>Partner</th>\n",
       "      <th>Dependents</th>\n",
       "      <th>tenure</th>\n",
       "      <th>PaperlessBilling</th>\n",
       "      <th>MultipleLines_No phone service</th>\n",
       "      <th>MultipleLines_Yes</th>\n",
       "      <th>InternetService_Fiber optic</th>\n",
       "      <th>OnlineSecurity_Yes</th>\n",
       "      <th>OnlineBackup_Yes</th>\n",
       "      <th>DeviceProtection_Yes</th>\n",
       "      <th>TechSupport_Yes</th>\n",
       "      <th>StreamingTV_Yes</th>\n",
       "      <th>StreamingMovies_No internet service</th>\n",
       "      <th>StreamingMovies_Yes</th>\n",
       "      <th>Contract_One year</th>\n",
       "      <th>Contract_Two year</th>\n",
       "      <th>PaymentMethod_Credit card (automatic)</th>\n",
       "      <th>PaymentMethod_Electronic check</th>\n",
       "      <th>PaymentMethod_Mailed check</th>\n",
       "    </tr>\n",
       "  </thead>\n",
       "  <tbody>\n",
       "    <tr>\n",
       "      <th>0</th>\n",
       "      <td>0</td>\n",
       "      <td>0</td>\n",
       "      <td>0</td>\n",
       "      <td>1</td>\n",
       "      <td>1</td>\n",
       "      <td>1</td>\n",
       "      <td>1.0</td>\n",
       "      <td>0.0</td>\n",
       "      <td>0.0</td>\n",
       "      <td>0.0</td>\n",
       "      <td>0.0</td>\n",
       "      <td>0.0</td>\n",
       "      <td>0.0</td>\n",
       "      <td>0.0</td>\n",
       "      <td>0.0</td>\n",
       "      <td>0.0</td>\n",
       "      <td>0.0</td>\n",
       "      <td>0.0</td>\n",
       "      <td>0.0</td>\n",
       "      <td>1.0</td>\n",
       "      <td>0.0</td>\n",
       "    </tr>\n",
       "    <tr>\n",
       "      <th>1</th>\n",
       "      <td>1</td>\n",
       "      <td>0</td>\n",
       "      <td>0</td>\n",
       "      <td>0</td>\n",
       "      <td>7</td>\n",
       "      <td>1</td>\n",
       "      <td>0.0</td>\n",
       "      <td>0.0</td>\n",
       "      <td>1.0</td>\n",
       "      <td>0.0</td>\n",
       "      <td>0.0</td>\n",
       "      <td>1.0</td>\n",
       "      <td>0.0</td>\n",
       "      <td>0.0</td>\n",
       "      <td>0.0</td>\n",
       "      <td>0.0</td>\n",
       "      <td>0.0</td>\n",
       "      <td>0.0</td>\n",
       "      <td>0.0</td>\n",
       "      <td>1.0</td>\n",
       "      <td>0.0</td>\n",
       "    </tr>\n",
       "    <tr>\n",
       "      <th>2</th>\n",
       "      <td>1</td>\n",
       "      <td>0</td>\n",
       "      <td>0</td>\n",
       "      <td>1</td>\n",
       "      <td>4</td>\n",
       "      <td>1</td>\n",
       "      <td>0.0</td>\n",
       "      <td>0.0</td>\n",
       "      <td>0.0</td>\n",
       "      <td>0.0</td>\n",
       "      <td>0.0</td>\n",
       "      <td>0.0</td>\n",
       "      <td>0.0</td>\n",
       "      <td>0.0</td>\n",
       "      <td>1.0</td>\n",
       "      <td>0.0</td>\n",
       "      <td>0.0</td>\n",
       "      <td>0.0</td>\n",
       "      <td>0.0</td>\n",
       "      <td>0.0</td>\n",
       "      <td>0.0</td>\n",
       "    </tr>\n",
       "    <tr>\n",
       "      <th>3</th>\n",
       "      <td>1</td>\n",
       "      <td>0</td>\n",
       "      <td>0</td>\n",
       "      <td>0</td>\n",
       "      <td>29</td>\n",
       "      <td>1</td>\n",
       "      <td>0.0</td>\n",
       "      <td>1.0</td>\n",
       "      <td>1.0</td>\n",
       "      <td>0.0</td>\n",
       "      <td>0.0</td>\n",
       "      <td>0.0</td>\n",
       "      <td>0.0</td>\n",
       "      <td>0.0</td>\n",
       "      <td>0.0</td>\n",
       "      <td>0.0</td>\n",
       "      <td>0.0</td>\n",
       "      <td>0.0</td>\n",
       "      <td>1.0</td>\n",
       "      <td>0.0</td>\n",
       "      <td>0.0</td>\n",
       "    </tr>\n",
       "    <tr>\n",
       "      <th>4</th>\n",
       "      <td>1</td>\n",
       "      <td>0</td>\n",
       "      <td>0</td>\n",
       "      <td>0</td>\n",
       "      <td>3</td>\n",
       "      <td>1</td>\n",
       "      <td>0.0</td>\n",
       "      <td>1.0</td>\n",
       "      <td>1.0</td>\n",
       "      <td>0.0</td>\n",
       "      <td>0.0</td>\n",
       "      <td>0.0</td>\n",
       "      <td>0.0</td>\n",
       "      <td>0.0</td>\n",
       "      <td>0.0</td>\n",
       "      <td>0.0</td>\n",
       "      <td>0.0</td>\n",
       "      <td>0.0</td>\n",
       "      <td>1.0</td>\n",
       "      <td>0.0</td>\n",
       "      <td>0.0</td>\n",
       "    </tr>\n",
       "  </tbody>\n",
       "</table>\n",
       "</div>"
      ],
      "text/plain": [
       "   gender  SeniorCitizen  Partner  Dependents  tenure  PaperlessBilling  \\\n",
       "0       0              0        0           1       1                 1   \n",
       "1       1              0        0           0       7                 1   \n",
       "2       1              0        0           1       4                 1   \n",
       "3       1              0        0           0      29                 1   \n",
       "4       1              0        0           0       3                 1   \n",
       "\n",
       "   MultipleLines_No phone service  MultipleLines_Yes  \\\n",
       "0                             1.0                0.0   \n",
       "1                             0.0                0.0   \n",
       "2                             0.0                0.0   \n",
       "3                             0.0                1.0   \n",
       "4                             0.0                1.0   \n",
       "\n",
       "   InternetService_Fiber optic  OnlineSecurity_Yes  OnlineBackup_Yes  \\\n",
       "0                          0.0                 0.0               0.0   \n",
       "1                          1.0                 0.0               0.0   \n",
       "2                          0.0                 0.0               0.0   \n",
       "3                          1.0                 0.0               0.0   \n",
       "4                          1.0                 0.0               0.0   \n",
       "\n",
       "   DeviceProtection_Yes  TechSupport_Yes  StreamingTV_Yes  \\\n",
       "0                   0.0              0.0              0.0   \n",
       "1                   1.0              0.0              0.0   \n",
       "2                   0.0              0.0              0.0   \n",
       "3                   0.0              0.0              0.0   \n",
       "4                   0.0              0.0              0.0   \n",
       "\n",
       "   StreamingMovies_No internet service  StreamingMovies_Yes  \\\n",
       "0                                  0.0                  0.0   \n",
       "1                                  0.0                  0.0   \n",
       "2                                  1.0                  0.0   \n",
       "3                                  0.0                  0.0   \n",
       "4                                  0.0                  0.0   \n",
       "\n",
       "   Contract_One year  Contract_Two year  \\\n",
       "0                0.0                0.0   \n",
       "1                0.0                0.0   \n",
       "2                0.0                0.0   \n",
       "3                0.0                0.0   \n",
       "4                0.0                0.0   \n",
       "\n",
       "   PaymentMethod_Credit card (automatic)  PaymentMethod_Electronic check  \\\n",
       "0                                    0.0                             1.0   \n",
       "1                                    0.0                             1.0   \n",
       "2                                    0.0                             0.0   \n",
       "3                                    1.0                             0.0   \n",
       "4                                    1.0                             0.0   \n",
       "\n",
       "   PaymentMethod_Mailed check  \n",
       "0                         0.0  \n",
       "1                         0.0  \n",
       "2                         0.0  \n",
       "3                         0.0  \n",
       "4                         0.0  "
      ]
     },
     "execution_count": 6,
     "metadata": {},
     "output_type": "execute_result"
    }
   ],
   "source": [
    "X_train.head()"
   ]
  },
  {
   "cell_type": "markdown",
   "metadata": {},
   "source": [
    "# Train Models"
   ]
  },
  {
   "cell_type": "code",
   "execution_count": 7,
   "metadata": {},
   "outputs": [],
   "source": [
    "models_to_train = [\n",
    "    DecisionTreeClassifier,\n",
    "    AdaBoostClassifier,\n",
    "    GradientBoostingClassifier,\n",
    "    RandomForestClassifier\n",
    "]"
   ]
  },
  {
   "cell_type": "code",
   "execution_count": 8,
   "metadata": {
    "scrolled": true
   },
   "outputs": [
    {
     "name": "stdout",
     "output_type": "stream",
     "text": [
      "DecisionTreeClassifier\n",
      "Fitting model before pickling\n",
      "saving the pickled model to 1639563322063429632.pkl\n",
      "Writing model results to existing results csv file\n",
      "accuracy: 0.72\n",
      "precision: 0.48\n",
      "recall: 0.48\n",
      "f1: 0.48\n",
      "roc_auc: 0.66\n",
      "AdaBoostClassifier\n",
      "Fitting model before pickling\n",
      "saving the pickled model to 158305255602119168.pkl\n",
      "Writing model results to existing results csv file\n"
     ]
    },
    {
     "name": "stderr",
     "output_type": "stream",
     "text": [
      "/Users/karthikmaddukuri/anaconda3/envs/churn-model/lib/python3.8/site-packages/sklearn/utils/validation.py:760: DataConversionWarning: A column-vector y was passed when a 1d array was expected. Please change the shape of y to (n_samples, ), for example using ravel().\n",
      "  y = column_or_1d(y, warn=True)\n"
     ]
    },
    {
     "name": "stdout",
     "output_type": "stream",
     "text": [
      "accuracy: 0.80\n",
      "precision: 0.65\n",
      "recall: 0.52\n",
      "f1: 0.58\n",
      "roc_auc: 0.84\n",
      "GradientBoostingClassifier\n",
      "Fitting model before pickling\n"
     ]
    },
    {
     "name": "stderr",
     "output_type": "stream",
     "text": [
      "/Users/karthikmaddukuri/anaconda3/envs/churn-model/lib/python3.8/site-packages/sklearn/ensemble/_gb.py:1454: DataConversionWarning: A column-vector y was passed when a 1d array was expected. Please change the shape of y to (n_samples, ), for example using ravel().\n",
      "  y = column_or_1d(y, warn=True)\n"
     ]
    },
    {
     "name": "stdout",
     "output_type": "stream",
     "text": [
      "saving the pickled model to 1647439854199289600.pkl\n",
      "Writing model results to existing results csv file\n",
      "accuracy: 0.81\n",
      "precision: 0.67\n",
      "recall: 0.52\n",
      "f1: 0.58\n",
      "roc_auc: 0.84\n",
      "RandomForestClassifier\n",
      "Fitting model before pickling\n"
     ]
    },
    {
     "name": "stderr",
     "output_type": "stream",
     "text": [
      "../src/models/train_model.py:51: DataConversionWarning: A column-vector y was passed when a 1d array was expected. Please change the shape of y to (n_samples,), for example using ravel().\n",
      "  model.fit(X_train, y_train)\n"
     ]
    },
    {
     "name": "stdout",
     "output_type": "stream",
     "text": [
      "saving the pickled model to 771445054950758144.pkl\n",
      "Writing model results to existing results csv file\n",
      "accuracy: 0.78\n",
      "precision: 0.61\n",
      "recall: 0.45\n",
      "f1: 0.52\n",
      "roc_auc: 0.81\n"
     ]
    }
   ],
   "source": [
    "for model_class in models_to_train:\n",
    "    print(model_class.__name__)\n",
    "    model = model_class()\n",
    "    store_model_and_results(model, X_train, y_train)\n",
    "    print_model_results(model, X_train, y_train)"
   ]
  },
  {
   "cell_type": "markdown",
   "metadata": {},
   "source": [
    "# Load model results"
   ]
  },
  {
   "cell_type": "code",
   "execution_count": 9,
   "metadata": {},
   "outputs": [],
   "source": [
    "model_results = load_model_results()"
   ]
  },
  {
   "cell_type": "code",
   "execution_count": 10,
   "metadata": {},
   "outputs": [
    {
     "data": {
      "text/html": [
       "<div>\n",
       "<style scoped>\n",
       "    .dataframe tbody tr th:only-of-type {\n",
       "        vertical-align: middle;\n",
       "    }\n",
       "\n",
       "    .dataframe tbody tr th {\n",
       "        vertical-align: top;\n",
       "    }\n",
       "\n",
       "    .dataframe thead th {\n",
       "        text-align: right;\n",
       "    }\n",
       "</style>\n",
       "<table border=\"1\" class=\"dataframe\">\n",
       "  <thead>\n",
       "    <tr style=\"text-align: right;\">\n",
       "      <th></th>\n",
       "      <th>model_filename</th>\n",
       "      <th>model_string</th>\n",
       "      <th>accuracy</th>\n",
       "      <th>precision</th>\n",
       "      <th>recall</th>\n",
       "      <th>f1</th>\n",
       "      <th>roc_auc</th>\n",
       "    </tr>\n",
       "  </thead>\n",
       "  <tbody>\n",
       "    <tr>\n",
       "      <th>4</th>\n",
       "      <td>1017545180110469376.pkl</td>\n",
       "      <td>AdaBoostClassifier(algorithm='SAMME.R', base_e...</td>\n",
       "      <td>0.800828</td>\n",
       "      <td>0.659652</td>\n",
       "      <td>0.502878</td>\n",
       "      <td>0.570043</td>\n",
       "      <td>0.845129</td>\n",
       "    </tr>\n",
       "    <tr>\n",
       "      <th>5</th>\n",
       "      <td>1126852098189955072.pkl</td>\n",
       "      <td>AdaBoostClassifier(algorithm='SAMME.R', base_e...</td>\n",
       "      <td>0.800828</td>\n",
       "      <td>0.659652</td>\n",
       "      <td>0.502878</td>\n",
       "      <td>0.570043</td>\n",
       "      <td>0.845129</td>\n",
       "    </tr>\n",
       "    <tr>\n",
       "      <th>15</th>\n",
       "      <td>382662255737366528.pkl</td>\n",
       "      <td>AdaBoostClassifier(algorithm='SAMME.R', base_e...</td>\n",
       "      <td>0.800070</td>\n",
       "      <td>0.650880</td>\n",
       "      <td>0.520863</td>\n",
       "      <td>0.578054</td>\n",
       "      <td>0.844914</td>\n",
       "    </tr>\n",
       "    <tr>\n",
       "      <th>19</th>\n",
       "      <td>395018859412328704.pkl</td>\n",
       "      <td>AdaBoostClassifier(algorithm='SAMME.R', base_e...</td>\n",
       "      <td>0.800070</td>\n",
       "      <td>0.650880</td>\n",
       "      <td>0.520863</td>\n",
       "      <td>0.578054</td>\n",
       "      <td>0.844914</td>\n",
       "    </tr>\n",
       "    <tr>\n",
       "      <th>7</th>\n",
       "      <td>2228562323708752128.pkl</td>\n",
       "      <td>AdaBoostClassifier(algorithm='SAMME.R', base_e...</td>\n",
       "      <td>0.800070</td>\n",
       "      <td>0.650880</td>\n",
       "      <td>0.520863</td>\n",
       "      <td>0.578054</td>\n",
       "      <td>0.844914</td>\n",
       "    </tr>\n",
       "    <tr>\n",
       "      <th>1</th>\n",
       "      <td>2241896888290486528.pkl</td>\n",
       "      <td>AdaBoostClassifier(algorithm='SAMME.R', base_e...</td>\n",
       "      <td>0.800070</td>\n",
       "      <td>0.650880</td>\n",
       "      <td>0.520863</td>\n",
       "      <td>0.578054</td>\n",
       "      <td>0.844914</td>\n",
       "    </tr>\n",
       "    <tr>\n",
       "      <th>24</th>\n",
       "      <td>158305255602119168.pkl</td>\n",
       "      <td>AdaBoostClassifier(algorithm='SAMME.R', base_e...</td>\n",
       "      <td>0.800070</td>\n",
       "      <td>0.650880</td>\n",
       "      <td>0.520863</td>\n",
       "      <td>0.578054</td>\n",
       "      <td>0.844914</td>\n",
       "    </tr>\n",
       "    <tr>\n",
       "      <th>11</th>\n",
       "      <td>1509884050712260864.pkl</td>\n",
       "      <td>AdaBoostClassifier(algorithm='SAMME.R', base_e...</td>\n",
       "      <td>0.800070</td>\n",
       "      <td>0.650880</td>\n",
       "      <td>0.520863</td>\n",
       "      <td>0.578054</td>\n",
       "      <td>0.844914</td>\n",
       "    </tr>\n",
       "    <tr>\n",
       "      <th>16</th>\n",
       "      <td>11166360157256192.pkl</td>\n",
       "      <td>GradientBoostingClassifier(ccp_alpha=0.0, crit...</td>\n",
       "      <td>0.805940</td>\n",
       "      <td>0.671295</td>\n",
       "      <td>0.515827</td>\n",
       "      <td>0.582726</td>\n",
       "      <td>0.844507</td>\n",
       "    </tr>\n",
       "    <tr>\n",
       "      <th>2</th>\n",
       "      <td>2129564747755537920.pkl</td>\n",
       "      <td>GradientBoostingClassifier(ccp_alpha=0.0, crit...</td>\n",
       "      <td>0.805940</td>\n",
       "      <td>0.671295</td>\n",
       "      <td>0.515827</td>\n",
       "      <td>0.582726</td>\n",
       "      <td>0.844507</td>\n",
       "    </tr>\n",
       "    <tr>\n",
       "      <th>20</th>\n",
       "      <td>484237217246198784.pkl</td>\n",
       "      <td>GradientBoostingClassifier(ccp_alpha=0.0, crit...</td>\n",
       "      <td>0.805940</td>\n",
       "      <td>0.671295</td>\n",
       "      <td>0.515827</td>\n",
       "      <td>0.582726</td>\n",
       "      <td>0.844507</td>\n",
       "    </tr>\n",
       "    <tr>\n",
       "      <th>12</th>\n",
       "      <td>1739609883467301376.pkl</td>\n",
       "      <td>GradientBoostingClassifier(ccp_alpha=0.0, crit...</td>\n",
       "      <td>0.805940</td>\n",
       "      <td>0.671295</td>\n",
       "      <td>0.515827</td>\n",
       "      <td>0.582726</td>\n",
       "      <td>0.844505</td>\n",
       "    </tr>\n",
       "    <tr>\n",
       "      <th>8</th>\n",
       "      <td>1630532964571742976.pkl</td>\n",
       "      <td>GradientBoostingClassifier(ccp_alpha=0.0, crit...</td>\n",
       "      <td>0.805940</td>\n",
       "      <td>0.671295</td>\n",
       "      <td>0.515827</td>\n",
       "      <td>0.582726</td>\n",
       "      <td>0.844505</td>\n",
       "    </tr>\n",
       "    <tr>\n",
       "      <th>25</th>\n",
       "      <td>1647439854199289600.pkl</td>\n",
       "      <td>GradientBoostingClassifier(ccp_alpha=0.0, crit...</td>\n",
       "      <td>0.805940</td>\n",
       "      <td>0.671295</td>\n",
       "      <td>0.515827</td>\n",
       "      <td>0.582726</td>\n",
       "      <td>0.844505</td>\n",
       "    </tr>\n",
       "    <tr>\n",
       "      <th>13</th>\n",
       "      <td>1653986574811005184.pkl</td>\n",
       "      <td>RandomForestClassifier(bootstrap=True, ccp_alp...</td>\n",
       "      <td>0.779626</td>\n",
       "      <td>0.609451</td>\n",
       "      <td>0.458273</td>\n",
       "      <td>0.527337</td>\n",
       "      <td>0.813529</td>\n",
       "    </tr>\n",
       "    <tr>\n",
       "      <th>17</th>\n",
       "      <td>1426891701879939584.pkl</td>\n",
       "      <td>RandomForestClassifier(bootstrap=True, ccp_alp...</td>\n",
       "      <td>0.777354</td>\n",
       "      <td>0.608502</td>\n",
       "      <td>0.450360</td>\n",
       "      <td>0.516998</td>\n",
       "      <td>0.813132</td>\n",
       "    </tr>\n",
       "    <tr>\n",
       "      <th>3</th>\n",
       "      <td>1050494775419860224.pkl</td>\n",
       "      <td>RandomForestClassifier(bootstrap=True, ccp_alp...</td>\n",
       "      <td>0.778299</td>\n",
       "      <td>0.615350</td>\n",
       "      <td>0.451079</td>\n",
       "      <td>0.512438</td>\n",
       "      <td>0.810875</td>\n",
       "    </tr>\n",
       "    <tr>\n",
       "      <th>26</th>\n",
       "      <td>771445054950758144.pkl</td>\n",
       "      <td>RandomForestClassifier(bootstrap=True, ccp_alp...</td>\n",
       "      <td>0.777166</td>\n",
       "      <td>0.610467</td>\n",
       "      <td>0.452518</td>\n",
       "      <td>0.524336</td>\n",
       "      <td>0.810835</td>\n",
       "    </tr>\n",
       "    <tr>\n",
       "      <th>21</th>\n",
       "      <td>1403367067319854848.pkl</td>\n",
       "      <td>RandomForestClassifier(bootstrap=True, ccp_alp...</td>\n",
       "      <td>0.776030</td>\n",
       "      <td>0.605514</td>\n",
       "      <td>0.461151</td>\n",
       "      <td>0.519833</td>\n",
       "      <td>0.810360</td>\n",
       "    </tr>\n",
       "    <tr>\n",
       "      <th>9</th>\n",
       "      <td>1402405456967305216.pkl</td>\n",
       "      <td>RandomForestClassifier(bootstrap=True, ccp_alp...</td>\n",
       "      <td>0.781709</td>\n",
       "      <td>0.613265</td>\n",
       "      <td>0.457554</td>\n",
       "      <td>0.525859</td>\n",
       "      <td>0.809719</td>\n",
       "    </tr>\n",
       "    <tr>\n",
       "      <th>22</th>\n",
       "      <td>1645620951684764672.pkl</td>\n",
       "      <td>SVC(C=1.0, break_ties=False, cache_size=200, c...</td>\n",
       "      <td>0.781900</td>\n",
       "      <td>0.644210</td>\n",
       "      <td>0.381295</td>\n",
       "      <td>0.478775</td>\n",
       "      <td>0.790909</td>\n",
       "    </tr>\n",
       "    <tr>\n",
       "      <th>14</th>\n",
       "      <td>2036994025399931648.pkl</td>\n",
       "      <td>DecisionTreeClassifier(ccp_alpha=0.0, class_we...</td>\n",
       "      <td>0.721697</td>\n",
       "      <td>0.486196</td>\n",
       "      <td>0.482734</td>\n",
       "      <td>0.479930</td>\n",
       "      <td>0.664674</td>\n",
       "    </tr>\n",
       "    <tr>\n",
       "      <th>6</th>\n",
       "      <td>2147582477394450688.pkl</td>\n",
       "      <td>DecisionTreeClassifier(ccp_alpha=0.0, class_we...</td>\n",
       "      <td>0.725671</td>\n",
       "      <td>0.478515</td>\n",
       "      <td>0.484173</td>\n",
       "      <td>0.477210</td>\n",
       "      <td>0.663814</td>\n",
       "    </tr>\n",
       "    <tr>\n",
       "      <th>23</th>\n",
       "      <td>1639563322063429632.pkl</td>\n",
       "      <td>DecisionTreeClassifier(ccp_alpha=0.0, class_we...</td>\n",
       "      <td>0.726808</td>\n",
       "      <td>0.481460</td>\n",
       "      <td>0.479856</td>\n",
       "      <td>0.482120</td>\n",
       "      <td>0.663023</td>\n",
       "    </tr>\n",
       "    <tr>\n",
       "      <th>0</th>\n",
       "      <td>35146618613511424.pkl</td>\n",
       "      <td>DecisionTreeClassifier(ccp_alpha=0.0, class_we...</td>\n",
       "      <td>0.726809</td>\n",
       "      <td>0.476914</td>\n",
       "      <td>0.482014</td>\n",
       "      <td>0.470755</td>\n",
       "      <td>0.660454</td>\n",
       "    </tr>\n",
       "    <tr>\n",
       "      <th>10</th>\n",
       "      <td>1135651312229991936.pkl</td>\n",
       "      <td>DecisionTreeClassifier(ccp_alpha=0.0, class_we...</td>\n",
       "      <td>0.727376</td>\n",
       "      <td>0.474252</td>\n",
       "      <td>0.476259</td>\n",
       "      <td>0.482207</td>\n",
       "      <td>0.659986</td>\n",
       "    </tr>\n",
       "    <tr>\n",
       "      <th>18</th>\n",
       "      <td>24810904411636480.pkl</td>\n",
       "      <td>DecisionTreeClassifier(ccp_alpha=0.0, class_we...</td>\n",
       "      <td>0.721885</td>\n",
       "      <td>0.477211</td>\n",
       "      <td>0.480576</td>\n",
       "      <td>0.473295</td>\n",
       "      <td>0.659605</td>\n",
       "    </tr>\n",
       "  </tbody>\n",
       "</table>\n",
       "</div>"
      ],
      "text/plain": [
       "             model_filename  \\\n",
       "4   1017545180110469376.pkl   \n",
       "5   1126852098189955072.pkl   \n",
       "15   382662255737366528.pkl   \n",
       "19   395018859412328704.pkl   \n",
       "7   2228562323708752128.pkl   \n",
       "1   2241896888290486528.pkl   \n",
       "24   158305255602119168.pkl   \n",
       "11  1509884050712260864.pkl   \n",
       "16    11166360157256192.pkl   \n",
       "2   2129564747755537920.pkl   \n",
       "20   484237217246198784.pkl   \n",
       "12  1739609883467301376.pkl   \n",
       "8   1630532964571742976.pkl   \n",
       "25  1647439854199289600.pkl   \n",
       "13  1653986574811005184.pkl   \n",
       "17  1426891701879939584.pkl   \n",
       "3   1050494775419860224.pkl   \n",
       "26   771445054950758144.pkl   \n",
       "21  1403367067319854848.pkl   \n",
       "9   1402405456967305216.pkl   \n",
       "22  1645620951684764672.pkl   \n",
       "14  2036994025399931648.pkl   \n",
       "6   2147582477394450688.pkl   \n",
       "23  1639563322063429632.pkl   \n",
       "0     35146618613511424.pkl   \n",
       "10  1135651312229991936.pkl   \n",
       "18    24810904411636480.pkl   \n",
       "\n",
       "                                         model_string  accuracy  precision  \\\n",
       "4   AdaBoostClassifier(algorithm='SAMME.R', base_e...  0.800828   0.659652   \n",
       "5   AdaBoostClassifier(algorithm='SAMME.R', base_e...  0.800828   0.659652   \n",
       "15  AdaBoostClassifier(algorithm='SAMME.R', base_e...  0.800070   0.650880   \n",
       "19  AdaBoostClassifier(algorithm='SAMME.R', base_e...  0.800070   0.650880   \n",
       "7   AdaBoostClassifier(algorithm='SAMME.R', base_e...  0.800070   0.650880   \n",
       "1   AdaBoostClassifier(algorithm='SAMME.R', base_e...  0.800070   0.650880   \n",
       "24  AdaBoostClassifier(algorithm='SAMME.R', base_e...  0.800070   0.650880   \n",
       "11  AdaBoostClassifier(algorithm='SAMME.R', base_e...  0.800070   0.650880   \n",
       "16  GradientBoostingClassifier(ccp_alpha=0.0, crit...  0.805940   0.671295   \n",
       "2   GradientBoostingClassifier(ccp_alpha=0.0, crit...  0.805940   0.671295   \n",
       "20  GradientBoostingClassifier(ccp_alpha=0.0, crit...  0.805940   0.671295   \n",
       "12  GradientBoostingClassifier(ccp_alpha=0.0, crit...  0.805940   0.671295   \n",
       "8   GradientBoostingClassifier(ccp_alpha=0.0, crit...  0.805940   0.671295   \n",
       "25  GradientBoostingClassifier(ccp_alpha=0.0, crit...  0.805940   0.671295   \n",
       "13  RandomForestClassifier(bootstrap=True, ccp_alp...  0.779626   0.609451   \n",
       "17  RandomForestClassifier(bootstrap=True, ccp_alp...  0.777354   0.608502   \n",
       "3   RandomForestClassifier(bootstrap=True, ccp_alp...  0.778299   0.615350   \n",
       "26  RandomForestClassifier(bootstrap=True, ccp_alp...  0.777166   0.610467   \n",
       "21  RandomForestClassifier(bootstrap=True, ccp_alp...  0.776030   0.605514   \n",
       "9   RandomForestClassifier(bootstrap=True, ccp_alp...  0.781709   0.613265   \n",
       "22  SVC(C=1.0, break_ties=False, cache_size=200, c...  0.781900   0.644210   \n",
       "14  DecisionTreeClassifier(ccp_alpha=0.0, class_we...  0.721697   0.486196   \n",
       "6   DecisionTreeClassifier(ccp_alpha=0.0, class_we...  0.725671   0.478515   \n",
       "23  DecisionTreeClassifier(ccp_alpha=0.0, class_we...  0.726808   0.481460   \n",
       "0   DecisionTreeClassifier(ccp_alpha=0.0, class_we...  0.726809   0.476914   \n",
       "10  DecisionTreeClassifier(ccp_alpha=0.0, class_we...  0.727376   0.474252   \n",
       "18  DecisionTreeClassifier(ccp_alpha=0.0, class_we...  0.721885   0.477211   \n",
       "\n",
       "      recall        f1   roc_auc  \n",
       "4   0.502878  0.570043  0.845129  \n",
       "5   0.502878  0.570043  0.845129  \n",
       "15  0.520863  0.578054  0.844914  \n",
       "19  0.520863  0.578054  0.844914  \n",
       "7   0.520863  0.578054  0.844914  \n",
       "1   0.520863  0.578054  0.844914  \n",
       "24  0.520863  0.578054  0.844914  \n",
       "11  0.520863  0.578054  0.844914  \n",
       "16  0.515827  0.582726  0.844507  \n",
       "2   0.515827  0.582726  0.844507  \n",
       "20  0.515827  0.582726  0.844507  \n",
       "12  0.515827  0.582726  0.844505  \n",
       "8   0.515827  0.582726  0.844505  \n",
       "25  0.515827  0.582726  0.844505  \n",
       "13  0.458273  0.527337  0.813529  \n",
       "17  0.450360  0.516998  0.813132  \n",
       "3   0.451079  0.512438  0.810875  \n",
       "26  0.452518  0.524336  0.810835  \n",
       "21  0.461151  0.519833  0.810360  \n",
       "9   0.457554  0.525859  0.809719  \n",
       "22  0.381295  0.478775  0.790909  \n",
       "14  0.482734  0.479930  0.664674  \n",
       "6   0.484173  0.477210  0.663814  \n",
       "23  0.479856  0.482120  0.663023  \n",
       "0   0.482014  0.470755  0.660454  \n",
       "10  0.476259  0.482207  0.659986  \n",
       "18  0.480576  0.473295  0.659605  "
      ]
     },
     "execution_count": 10,
     "metadata": {},
     "output_type": "execute_result"
    }
   ],
   "source": [
    "model_results.sort_values(by='roc_auc', ascending=False)"
   ]
  },
  {
   "cell_type": "markdown",
   "metadata": {},
   "source": [
    "# GradientBoosting Classifier"
   ]
  },
  {
   "cell_type": "code",
   "execution_count": 11,
   "metadata": {},
   "outputs": [],
   "source": [
    "model = load_pickled_model('1934686941463014656.pkl')"
   ]
  },
  {
   "cell_type": "code",
   "execution_count": 12,
   "metadata": {
    "scrolled": true
   },
   "outputs": [
    {
     "data": {
      "text/plain": [
       "[('tenure', 0.3191973158397745),\n",
       " ('DeviceProtection_Yes', 0.19791966633549282),\n",
       " ('MultipleLines_Yes', 0.07174668646146165),\n",
       " ('InternetService_Fiber optic', 0.06633528973796865),\n",
       " ('StreamingMovies_No internet service', 0.021246361673147404),\n",
       " ('MultipleLines_No phone service', 0.01630021640876903),\n",
       " ('PaymentMethod_Mailed check', 0.010544960528401153),\n",
       " ('PaymentMethod_Electronic check', 0.006981233927907116),\n",
       " ('OnlineBackup_Yes', 0.006560146767676456),\n",
       " ('SeniorCitizen', 0.00627450728233494)]"
      ]
     },
     "execution_count": 12,
     "metadata": {},
     "output_type": "execute_result"
    }
   ],
   "source": [
    "most_important_features = sorted(zip(X_train.columns, model.feature_importances_), key = lambda x:x[1], reverse=True)\n",
    "most_important_features[:10]"
   ]
  },
  {
   "cell_type": "markdown",
   "metadata": {},
   "source": [
    "# Partial Dependence plots"
   ]
  },
  {
   "cell_type": "markdown",
   "metadata": {},
   "source": [
    "This shows us the direction of influence of each feature towards the target variable (i.e if influencing to churn or to stay)"
   ]
  },
  {
   "cell_type": "code",
   "execution_count": 13,
   "metadata": {
    "scrolled": true
   },
   "outputs": [
    {
     "name": "stderr",
     "output_type": "stream",
     "text": [
      "/Users/karthikmaddukuri/anaconda3/envs/churn-model/lib/python3.8/site-packages/sklearn/inspection/_partial_dependence.py:950: UserWarning: Attempting to set identical bottom == top == 0.0621406659673408 results in singular transformations; automatically expanding.\n",
      "  axi.set_ylim(self.pdp_lim[1])\n",
      "/Users/karthikmaddukuri/anaconda3/envs/churn-model/lib/python3.8/site-packages/sklearn/inspection/_partial_dependence.py:950: UserWarning: Attempting to set identical bottom == top == -0.7881635403394679 results in singular transformations; automatically expanding.\n",
      "  axi.set_ylim(self.pdp_lim[1])\n",
      "/Users/karthikmaddukuri/anaconda3/envs/churn-model/lib/python3.8/site-packages/sklearn/inspection/_partial_dependence.py:857: RuntimeWarning: More than 20 figures have been opened. Figures created through the pyplot interface (`matplotlib.pyplot.figure`) are retained until explicitly closed and may consume too much memory. (To control this warning, see the rcParam `figure.max_open_warning`).\n",
      "  _, ax = plt.subplots()\n",
      "/Users/karthikmaddukuri/anaconda3/envs/churn-model/lib/python3.8/site-packages/sklearn/inspection/_partial_dependence.py:950: UserWarning: Attempting to set identical bottom == top == -0.5578995537554033 results in singular transformations; automatically expanding.\n",
      "  axi.set_ylim(self.pdp_lim[1])\n"
     ]
    },
    {
     "data": {
      "image/png": "[encoded data removed]",
      "text/plain": [
       "<Figure size 432x288 with 2 Axes>"
      ]
     },
     "metadata": {
      "needs_background": "light"
     },
     "output_type": "display_data"
    },
    {
     "data": {
      "image/png": "[encoded data removed]",
      "text/plain": [
       "<Figure size 432x288 with 2 Axes>"
      ]
     },
     "metadata": {
      "needs_background": "light"
     },
     "output_type": "display_data"
    },
    {
     "data": {
      "image/png": "[encoded data removed]",
      "text/plain": [
       "<Figure size 432x288 with 2 Axes>"
      ]
     },
     "metadata": {
      "needs_background": "light"
     },
     "output_type": "display_data"
    },
    {
     "data": {
      "image/png": "[encoded data removed]",
      "text/plain": [
       "<Figure size 432x288 with 2 Axes>"
      ]
     },
     "metadata": {
      "needs_background": "light"
     },
     "output_type": "display_data"
    },
    {
     "data": {
      "image/png": "[encoded data removed]",
      "text/plain": [
       "<Figure size 432x288 with 2 Axes>"
      ]
     },
     "metadata": {
      "needs_background": "light"
     },
     "output_type": "display_data"
    },
    {
     "data": {
      "image/png": "[encoded data removed]",
      "text/plain": [
       "<Figure size 432x288 with 2 Axes>"
      ]
     },
     "metadata": {
      "needs_background": "light"
     },
     "output_type": "display_data"
    },
    {
     "data": {
      "image/png": "[encoded data removed]",
      "text/plain": [
       "<Figure size 432x288 with 2 Axes>"
      ]
     },
     "metadata": {
      "needs_background": "light"
     },
     "output_type": "display_data"
    },
    {
     "data": {
      "image/png": "[encoded data removed]",
      "text/plain": [
       "<Figure size 432x288 with 2 Axes>"
      ]
     },
     "metadata": {
      "needs_background": "light"
     },
     "output_type": "display_data"
    },
    {
     "data": {
      "image/png": "[encoded data removed]",
      "text/plain": [
       "<Figure size 432x288 with 2 Axes>"
      ]
     },
     "metadata": {
      "needs_background": "light"
     },
     "output_type": "display_data"
    },
    {
     "data": {
      "image/png": "[encoded data removed]",
      "text/plain": [
       "<Figure size 432x288 with 2 Axes>"
      ]
     },
     "metadata": {
      "needs_background": "light"
     },
     "output_type": "display_data"
    },
    {
     "data": {
      "image/png": "[encoded data removed]",
      "text/plain": [
       "<Figure size 432x288 with 2 Axes>"
      ]
     },
     "metadata": {
      "needs_background": "light"
     },
     "output_type": "display_data"
    },
    {
     "data": {
      "image/png": "[encoded data removed]",
      "text/plain": [
       "<Figure size 432x288 with 2 Axes>"
      ]
     },
     "metadata": {
      "needs_background": "light"
     },
     "output_type": "display_data"
    },
    {
     "data": {
      "image/png": "[encoded data removed]",
      "text/plain": [
       "<Figure size 432x288 with 2 Axes>"
      ]
     },
     "metadata": {
      "needs_background": "light"
     },
     "output_type": "display_data"
    },
    {
     "data": {
      "image/png": "[encoded data removed]",
      "text/plain": [
       "<Figure size 432x288 with 2 Axes>"
      ]
     },
     "metadata": {
      "needs_background": "light"
     },
     "output_type": "display_data"
    },
    {
     "data": {
      "image/png": "[encoded data removed]",
      "text/plain": [
       "<Figure size 432x288 with 2 Axes>"
      ]
     },
     "metadata": {
      "needs_background": "light"
     },
     "output_type": "display_data"
    },
    {
     "data": {
      "image/png": "[encoded data removed]",
      "text/plain": [
       "<Figure size 432x288 with 2 Axes>"
      ]
     },
     "metadata": {
      "needs_background": "light"
     },
     "output_type": "display_data"
    },
    {
     "data": {
      "image/png": "[encoded data removed]",
      "text/plain": [
       "<Figure size 432x288 with 2 Axes>"
      ]
     },
     "metadata": {
      "needs_background": "light"
     },
     "output_type": "display_data"
    },
    {
     "data": {
      "image/png": "[encoded data removed]",
      "text/plain": [
       "<Figure size 432x288 with 2 Axes>"
      ]
     },
     "metadata": {
      "needs_background": "light"
     },
     "output_type": "display_data"
    },
    {
     "data": {
      "image/png": "[encoded data removed]",
      "text/plain": [
       "<Figure size 432x288 with 2 Axes>"
      ]
     },
     "metadata": {
      "needs_background": "light"
     },
     "output_type": "display_data"
    },
    {
     "data": {
      "image/png": "[encoded data removed]",
      "text/plain": [
       "<Figure size 432x288 with 2 Axes>"
      ]
     },
     "metadata": {
      "needs_background": "light"
     },
     "output_type": "display_data"
    },
    {
     "data": {
      "image/png": "[encoded data removed]",
      "text/plain": [
       "<Figure size 432x288 with 2 Axes>"
      ]
     },
     "metadata": {
      "needs_background": "light"
     },
     "output_type": "display_data"
    }
   ],
   "source": [
    "for col, _ in most_important_features[:]:\n",
    "    plot_partial_dependence(model, X_train, [col])                                       "
   ]
  },
  {
   "cell_type": "markdown",
   "metadata": {},
   "source": [
    "# Visualize model training\n",
    "Using **learning curves** to explore overfitting and underfitting \n",
    "\n",
    "## Learning Curves"
   ]
  },
  {
   "cell_type": "code",
   "execution_count": 14,
   "metadata": {
    "scrolled": true
   },
   "outputs": [
    {
     "name": "stderr",
     "output_type": "stream",
     "text": [
      "/Users/karthikmaddukuri/anaconda3/envs/churn-model/lib/python3.8/site-packages/sklearn/ensemble/_gb.py:1454: DataConversionWarning: A column-vector y was passed when a 1d array was expected. Please change the shape of y to (n_samples, ), for example using ravel().\n",
      "  y = column_or_1d(y, warn=True)\n",
      "/Users/karthikmaddukuri/anaconda3/envs/churn-model/lib/python3.8/site-packages/sklearn/ensemble/_gb.py:1454: DataConversionWarning: A column-vector y was passed when a 1d array was expected. Please change the shape of y to (n_samples, ), for example using ravel().\n",
      "  y = column_or_1d(y, warn=True)\n",
      "/Users/karthikmaddukuri/anaconda3/envs/churn-model/lib/python3.8/site-packages/sklearn/ensemble/_gb.py:1454: DataConversionWarning: A column-vector y was passed when a 1d array was expected. Please change the shape of y to (n_samples, ), for example using ravel().\n",
      "  y = column_or_1d(y, warn=True)\n",
      "/Users/karthikmaddukuri/anaconda3/envs/churn-model/lib/python3.8/site-packages/sklearn/ensemble/_gb.py:1454: DataConversionWarning: A column-vector y was passed when a 1d array was expected. Please change the shape of y to (n_samples, ), for example using ravel().\n",
      "  y = column_or_1d(y, warn=True)\n",
      "/Users/karthikmaddukuri/anaconda3/envs/churn-model/lib/python3.8/site-packages/sklearn/ensemble/_gb.py:1454: DataConversionWarning: A column-vector y was passed when a 1d array was expected. Please change the shape of y to (n_samples, ), for example using ravel().\n",
      "  y = column_or_1d(y, warn=True)\n",
      "/Users/karthikmaddukuri/anaconda3/envs/churn-model/lib/python3.8/site-packages/sklearn/ensemble/_gb.py:1454: DataConversionWarning: A column-vector y was passed when a 1d array was expected. Please change the shape of y to (n_samples, ), for example using ravel().\n",
      "  y = column_or_1d(y, warn=True)\n",
      "/Users/karthikmaddukuri/anaconda3/envs/churn-model/lib/python3.8/site-packages/sklearn/ensemble/_gb.py:1454: DataConversionWarning: A column-vector y was passed when a 1d array was expected. Please change the shape of y to (n_samples, ), for example using ravel().\n",
      "  y = column_or_1d(y, warn=True)\n",
      "/Users/karthikmaddukuri/anaconda3/envs/churn-model/lib/python3.8/site-packages/sklearn/ensemble/_gb.py:1454: DataConversionWarning: A column-vector y was passed when a 1d array was expected. Please change the shape of y to (n_samples, ), for example using ravel().\n",
      "  y = column_or_1d(y, warn=True)\n",
      "/Users/karthikmaddukuri/anaconda3/envs/churn-model/lib/python3.8/site-packages/sklearn/ensemble/_gb.py:1454: DataConversionWarning: A column-vector y was passed when a 1d array was expected. Please change the shape of y to (n_samples, ), for example using ravel().\n",
      "  y = column_or_1d(y, warn=True)\n",
      "/Users/karthikmaddukuri/anaconda3/envs/churn-model/lib/python3.8/site-packages/sklearn/ensemble/_gb.py:1454: DataConversionWarning: A column-vector y was passed when a 1d array was expected. Please change the shape of y to (n_samples, ), for example using ravel().\n",
      "  y = column_or_1d(y, warn=True)\n",
      "/Users/karthikmaddukuri/anaconda3/envs/churn-model/lib/python3.8/site-packages/sklearn/ensemble/_gb.py:1454: DataConversionWarning: A column-vector y was passed when a 1d array was expected. Please change the shape of y to (n_samples, ), for example using ravel().\n",
      "  y = column_or_1d(y, warn=True)\n",
      "/Users/karthikmaddukuri/anaconda3/envs/churn-model/lib/python3.8/site-packages/sklearn/ensemble/_gb.py:1454: DataConversionWarning: A column-vector y was passed when a 1d array was expected. Please change the shape of y to (n_samples, ), for example using ravel().\n",
      "  y = column_or_1d(y, warn=True)\n",
      "/Users/karthikmaddukuri/anaconda3/envs/churn-model/lib/python3.8/site-packages/sklearn/ensemble/_gb.py:1454: DataConversionWarning: A column-vector y was passed when a 1d array was expected. Please change the shape of y to (n_samples, ), for example using ravel().\n",
      "  y = column_or_1d(y, warn=True)\n",
      "/Users/karthikmaddukuri/anaconda3/envs/churn-model/lib/python3.8/site-packages/sklearn/ensemble/_gb.py:1454: DataConversionWarning: A column-vector y was passed when a 1d array was expected. Please change the shape of y to (n_samples, ), for example using ravel().\n",
      "  y = column_or_1d(y, warn=True)\n",
      "/Users/karthikmaddukuri/anaconda3/envs/churn-model/lib/python3.8/site-packages/sklearn/ensemble/_gb.py:1454: DataConversionWarning: A column-vector y was passed when a 1d array was expected. Please change the shape of y to (n_samples, ), for example using ravel().\n",
      "  y = column_or_1d(y, warn=True)\n",
      "/Users/karthikmaddukuri/anaconda3/envs/churn-model/lib/python3.8/site-packages/sklearn/ensemble/_gb.py:1454: DataConversionWarning: A column-vector y was passed when a 1d array was expected. Please change the shape of y to (n_samples, ), for example using ravel().\n",
      "  y = column_or_1d(y, warn=True)\n",
      "/Users/karthikmaddukuri/anaconda3/envs/churn-model/lib/python3.8/site-packages/sklearn/ensemble/_gb.py:1454: DataConversionWarning: A column-vector y was passed when a 1d array was expected. Please change the shape of y to (n_samples, ), for example using ravel().\n",
      "  y = column_or_1d(y, warn=True)\n",
      "/Users/karthikmaddukuri/anaconda3/envs/churn-model/lib/python3.8/site-packages/sklearn/ensemble/_gb.py:1454: DataConversionWarning: A column-vector y was passed when a 1d array was expected. Please change the shape of y to (n_samples, ), for example using ravel().\n",
      "  y = column_or_1d(y, warn=True)\n",
      "/Users/karthikmaddukuri/anaconda3/envs/churn-model/lib/python3.8/site-packages/sklearn/ensemble/_gb.py:1454: DataConversionWarning: A column-vector y was passed when a 1d array was expected. Please change the shape of y to (n_samples, ), for example using ravel().\n",
      "  y = column_or_1d(y, warn=True)\n",
      "/Users/karthikmaddukuri/anaconda3/envs/churn-model/lib/python3.8/site-packages/sklearn/ensemble/_gb.py:1454: DataConversionWarning: A column-vector y was passed when a 1d array was expected. Please change the shape of y to (n_samples, ), for example using ravel().\n",
      "  y = column_or_1d(y, warn=True)\n",
      "/Users/karthikmaddukuri/anaconda3/envs/churn-model/lib/python3.8/site-packages/sklearn/ensemble/_gb.py:1454: DataConversionWarning: A column-vector y was passed when a 1d array was expected. Please change the shape of y to (n_samples, ), for example using ravel().\n",
      "  y = column_or_1d(y, warn=True)\n",
      "/Users/karthikmaddukuri/anaconda3/envs/churn-model/lib/python3.8/site-packages/sklearn/ensemble/_gb.py:1454: DataConversionWarning: A column-vector y was passed when a 1d array was expected. Please change the shape of y to (n_samples, ), for example using ravel().\n",
      "  y = column_or_1d(y, warn=True)\n",
      "/Users/karthikmaddukuri/anaconda3/envs/churn-model/lib/python3.8/site-packages/sklearn/ensemble/_gb.py:1454: DataConversionWarning: A column-vector y was passed when a 1d array was expected. Please change the shape of y to (n_samples, ), for example using ravel().\n",
      "  y = column_or_1d(y, warn=True)\n",
      "/Users/karthikmaddukuri/anaconda3/envs/churn-model/lib/python3.8/site-packages/sklearn/ensemble/_gb.py:1454: DataConversionWarning: A column-vector y was passed when a 1d array was expected. Please change the shape of y to (n_samples, ), for example using ravel().\n",
      "  y = column_or_1d(y, warn=True)\n",
      "/Users/karthikmaddukuri/anaconda3/envs/churn-model/lib/python3.8/site-packages/sklearn/ensemble/_gb.py:1454: DataConversionWarning: A column-vector y was passed when a 1d array was expected. Please change the shape of y to (n_samples, ), for example using ravel().\n",
      "  y = column_or_1d(y, warn=True)\n"
     ]
    }
   ],
   "source": [
    "train_sizes, train_scores, test_scores = learning_curve(model, X_train, y_train)"
   ]
  },
  {
   "cell_type": "code",
   "execution_count": 15,
   "metadata": {},
   "outputs": [
    {
     "data": {
      "text/plain": [
       "array([ 422, 1373, 2323, 3274, 4225])"
      ]
     },
     "execution_count": 15,
     "metadata": {},
     "output_type": "execute_result"
    }
   ],
   "source": [
    "train_sizes"
   ]
  },
  {
   "cell_type": "code",
   "execution_count": 16,
   "metadata": {},
   "outputs": [],
   "source": [
    "train_scores = np.mean(train_scores, axis = 1)"
   ]
  },
  {
   "cell_type": "code",
   "execution_count": 17,
   "metadata": {},
   "outputs": [],
   "source": [
    "test_scores = np.mean(test_scores, axis = 1)"
   ]
  },
  {
   "cell_type": "code",
   "execution_count": 18,
   "metadata": {},
   "outputs": [
    {
     "data": {
      "image/png": "[encoded data removed]",
      "text/plain": [
       "<Figure size 432x288 with 1 Axes>"
      ]
     },
     "metadata": {
      "needs_background": "light"
     },
     "output_type": "display_data"
    }
   ],
   "source": [
    "plt.plot(train_sizes, train_scores, label = 'Training Accuracy')\n",
    "plt.plot(train_sizes, test_scores, label = 'Testing Accuracy')\n",
    "plt.ylim(0,1)\n",
    "_ = plt.legend(loc='center')"
   ]
  },
  {
   "cell_type": "markdown",
   "metadata": {},
   "source": [
    "## Inspecting Overfitting"
   ]
  },
  {
   "cell_type": "code",
   "execution_count": 19,
   "metadata": {},
   "outputs": [],
   "source": [
    "dt = load_pickled_model('1199677766716801792.pkl')"
   ]
  },
  {
   "cell_type": "code",
   "execution_count": 20,
   "metadata": {},
   "outputs": [],
   "source": [
    "train_sizes, train_scores, test_scores = learning_curve(dt, X_train, y_train)\n",
    "train_scores = np.mean(train_scores, axis = 1)\n",
    "test_scores = np.mean(test_scores, axis = 1)"
   ]
  },
  {
   "cell_type": "code",
   "execution_count": 21,
   "metadata": {},
   "outputs": [
    {
     "data": {
      "image/png": "[encoded data removed]",
      "text/plain": [
       "<Figure size 432x288 with 1 Axes>"
      ]
     },
     "metadata": {
      "needs_background": "light"
     },
     "output_type": "display_data"
    }
   ],
   "source": [
    "plt.plot(train_sizes, train_scores, label = 'Training Accuracy')\n",
    "plt.plot(train_sizes, test_scores, label = 'Testing Accuracy')\n",
    "# plt.ylim(0,1.1)\n",
    "_ = plt.legend()"
   ]
  },
  {
   "cell_type": "markdown",
   "metadata": {},
   "source": [
    "# Visualize model performance\n",
    "Using **ROC curves** to visualize overall classification performance of our models\n",
    "\n",
    "## ROC Curves"
   ]
  },
  {
   "cell_type": "code",
   "execution_count": 22,
   "metadata": {},
   "outputs": [],
   "source": [
    "X_train_subset, X_val, y_train_subset, y_val = train_test_split(X_train, y_train, test_size=0.25, random_state=42)"
   ]
  },
  {
   "cell_type": "code",
   "execution_count": 23,
   "metadata": {},
   "outputs": [
    {
     "name": "stderr",
     "output_type": "stream",
     "text": [
      "/Users/karthikmaddukuri/anaconda3/envs/churn-model/lib/python3.8/site-packages/sklearn/ensemble/_gb.py:1454: DataConversionWarning: A column-vector y was passed when a 1d array was expected. Please change the shape of y to (n_samples, ), for example using ravel().\n",
      "  y = column_or_1d(y, warn=True)\n"
     ]
    },
    {
     "data": {
      "text/plain": [
       "GradientBoostingClassifier(ccp_alpha=0.0, criterion='friedman_mse', init=None,\n",
       "                           learning_rate=0.1, loss='deviance', max_depth=3,\n",
       "                           max_features=None, max_leaf_nodes=None,\n",
       "                           min_impurity_decrease=0.0, min_impurity_split=None,\n",
       "                           min_samples_leaf=1, min_samples_split=2,\n",
       "                           min_weight_fraction_leaf=0.0, n_estimators=100,\n",
       "                           n_iter_no_change=None, presort='deprecated',\n",
       "                           random_state=None, subsample=1.0, tol=0.0001,\n",
       "                           validation_fraction=0.1, verbose=0,\n",
       "                           warm_start=False)"
      ]
     },
     "execution_count": 23,
     "metadata": {},
     "output_type": "execute_result"
    }
   ],
   "source": [
    "model.fit(X_train_subset, y_train_subset)"
   ]
  },
  {
   "cell_type": "code",
   "execution_count": 24,
   "metadata": {},
   "outputs": [
    {
     "data": {
      "text/plain": [
       "array([[0.78276092, 0.21723908],\n",
       "       [0.87941177, 0.12058823],\n",
       "       [0.9905395 , 0.0094605 ],\n",
       "       ...,\n",
       "       [0.96392603, 0.03607397],\n",
       "       [0.52753168, 0.47246832],\n",
       "       [0.53393344, 0.46606656]])"
      ]
     },
     "execution_count": 24,
     "metadata": {},
     "output_type": "execute_result"
    }
   ],
   "source": [
    "y_score = model.predict_proba(X_val)\n",
    "y_score"
   ]
  },
  {
   "cell_type": "markdown",
   "metadata": {},
   "source": [
    "**y_score outputs the probability of 0 class and 1 class, usually we speak about the positive class when talking probability, so we only consider the probability of 1 class.**"
   ]
  },
  {
   "cell_type": "code",
   "execution_count": 25,
   "metadata": {},
   "outputs": [],
   "source": [
    "y_score = y_score[:,1] "
   ]
  },
  {
   "cell_type": "code",
   "execution_count": 26,
   "metadata": {},
   "outputs": [],
   "source": [
    "fpr, tpr, thresholds = roc_curve(y_val, y_score)"
   ]
  },
  {
   "cell_type": "markdown",
   "metadata": {},
   "source": [
    "### Plot ROC curve for GradientBoosting Classifier"
   ]
  },
  {
   "cell_type": "code",
   "execution_count": 27,
   "metadata": {},
   "outputs": [
    {
     "data": {
      "text/plain": [
       "Text(0, 0.5, 'True Positive Rate')"
      ]
     },
     "execution_count": 27,
     "metadata": {},
     "output_type": "execute_result"
    },
    {
     "data": {
      "image/png": "[encoded data removed]",
      "text/plain": [
       "<Figure size 432x288 with 1 Axes>"
      ]
     },
     "metadata": {
      "needs_background": "light"
     },
     "output_type": "display_data"
    }
   ],
   "source": [
    "plt.plot(fpr, tpr)\n",
    "plt.title(f'ROC CURVE - {type(model).__name__}')\n",
    "plt.xlabel('False Positive Rate')\n",
    "plt.ylabel('True Positive Rate')"
   ]
  },
  {
   "cell_type": "markdown",
   "metadata": {},
   "source": [
    "### ROC Curves for the other models"
   ]
  },
  {
   "cell_type": "code",
   "execution_count": 28,
   "metadata": {},
   "outputs": [
    {
     "name": "stderr",
     "output_type": "stream",
     "text": [
      "/Users/karthikmaddukuri/anaconda3/envs/churn-model/lib/python3.8/site-packages/sklearn/utils/validation.py:760: DataConversionWarning: A column-vector y was passed when a 1d array was expected. Please change the shape of y to (n_samples, ), for example using ravel().\n",
      "  y = column_or_1d(y, warn=True)\n",
      "/Users/karthikmaddukuri/anaconda3/envs/churn-model/lib/python3.8/site-packages/sklearn/ensemble/_gb.py:1454: DataConversionWarning: A column-vector y was passed when a 1d array was expected. Please change the shape of y to (n_samples, ), for example using ravel().\n",
      "  y = column_or_1d(y, warn=True)\n",
      "<ipython-input-28-5ec191c86500>:3: DataConversionWarning: A column-vector y was passed when a 1d array was expected. Please change the shape of y to (n_samples,), for example using ravel().\n",
      "  model.fit(X_train_subset, y_train_subset)\n"
     ]
    },
    {
     "data": {
      "image/png": "[encoded data removed]",
      "text/plain": [
       "<Figure size 432x288 with 1 Axes>"
      ]
     },
     "metadata": {
      "needs_background": "light"
     },
     "output_type": "display_data"
    }
   ],
   "source": [
    "for model_class in models_to_train:\n",
    "    model = model_class()\n",
    "    model.fit(X_train_subset, y_train_subset)\n",
    "    y_score = model.predict_proba(X_val)\n",
    "    y_score = y_score[:,1]\n",
    "    fpr, tpr, thresholds = roc_curve(y_val, y_score)\n",
    "    plt.plot(fpr, tpr,label = f'{type(model).__name__}')\n",
    "    plt.savefig(REPORTS_DIRECTORY + '/ROC_CURVE.png')\n",
    "    plt.title(f'ROC CURVE - {type(model).__name__}')\n",
    "    plt.xlabel('False Positive Rate')\n",
    "    plt.ylabel('True Positive Rate')\n",
    "    plt.legend()"
   ]
  },
  {
   "cell_type": "markdown",
   "metadata": {},
   "source": [
    "# Training Models after addressing Multicollinearity (dropped high VIF features)"
   ]
  },
  {
   "cell_type": "code",
   "execution_count": 29,
   "metadata": {},
   "outputs": [],
   "source": [
    "X_train, y_train = load_training_data(final=True)"
   ]
  },
  {
   "cell_type": "code",
   "execution_count": 30,
   "metadata": {},
   "outputs": [],
   "source": [
    "models_to_train = [\n",
    "    DecisionTreeClassifier,\n",
    "    AdaBoostClassifier,\n",
    "    GradientBoostingClassifier,\n",
    "    RandomForestClassifier\n",
    "]"
   ]
  },
  {
   "cell_type": "code",
   "execution_count": 31,
   "metadata": {},
   "outputs": [
    {
     "name": "stdout",
     "output_type": "stream",
     "text": [
      "DecisionTreeClassifier\n",
      "Fitting model before pickling\n",
      "saving the pickled model to 1977999048657955072.pkl\n",
      "Writing model results to existing results csv file\n",
      "accuracy: 0.72\n",
      "precision: 0.48\n",
      "recall: 0.48\n",
      "f1: 0.48\n",
      "roc_auc: 0.66\n",
      "AdaBoostClassifier\n",
      "Fitting model before pickling\n",
      "saving the pickled model to 2183524338018462976.pkl\n",
      "Writing model results to existing results csv file\n"
     ]
    },
    {
     "name": "stderr",
     "output_type": "stream",
     "text": [
      "/Users/karthikmaddukuri/anaconda3/envs/churn-model/lib/python3.8/site-packages/sklearn/utils/validation.py:760: DataConversionWarning: A column-vector y was passed when a 1d array was expected. Please change the shape of y to (n_samples, ), for example using ravel().\n",
      "  y = column_or_1d(y, warn=True)\n"
     ]
    },
    {
     "name": "stdout",
     "output_type": "stream",
     "text": [
      "accuracy: 0.80\n",
      "precision: 0.65\n",
      "recall: 0.52\n",
      "f1: 0.58\n",
      "roc_auc: 0.84\n",
      "GradientBoostingClassifier\n",
      "Fitting model before pickling\n"
     ]
    },
    {
     "name": "stderr",
     "output_type": "stream",
     "text": [
      "/Users/karthikmaddukuri/anaconda3/envs/churn-model/lib/python3.8/site-packages/sklearn/ensemble/_gb.py:1454: DataConversionWarning: A column-vector y was passed when a 1d array was expected. Please change the shape of y to (n_samples, ), for example using ravel().\n",
      "  y = column_or_1d(y, warn=True)\n"
     ]
    },
    {
     "name": "stdout",
     "output_type": "stream",
     "text": [
      "saving the pickled model to 649013611415713280.pkl\n",
      "Writing model results to existing results csv file\n",
      "accuracy: 0.81\n",
      "precision: 0.67\n",
      "recall: 0.52\n",
      "f1: 0.58\n",
      "roc_auc: 0.84\n",
      "RandomForestClassifier\n",
      "Fitting model before pickling\n"
     ]
    },
    {
     "name": "stderr",
     "output_type": "stream",
     "text": [
      "../src/models/train_model.py:51: DataConversionWarning: A column-vector y was passed when a 1d array was expected. Please change the shape of y to (n_samples,), for example using ravel().\n",
      "  model.fit(X_train, y_train)\n"
     ]
    },
    {
     "name": "stdout",
     "output_type": "stream",
     "text": [
      "saving the pickled model to 1461724110737210368.pkl\n",
      "Writing model results to existing results csv file\n",
      "accuracy: 0.78\n",
      "precision: 0.61\n",
      "recall: 0.46\n",
      "f1: 0.52\n",
      "roc_auc: 0.81\n"
     ]
    }
   ],
   "source": [
    "for model_class in models_to_train:\n",
    "    print(model_class.__name__)\n",
    "    model = model_class()\n",
    "    store_model_and_results(model, X_train, y_train)\n",
    "    print_model_results(model, X_train, y_train)"
   ]
  },
  {
   "cell_type": "markdown",
   "metadata": {},
   "source": [
    "# Load Model Results"
   ]
  },
  {
   "cell_type": "code",
   "execution_count": 32,
   "metadata": {},
   "outputs": [],
   "source": [
    "model_results = load_model_results()"
   ]
  },
  {
   "cell_type": "code",
   "execution_count": 33,
   "metadata": {},
   "outputs": [
    {
     "data": {
      "text/html": [
       "<div>\n",
       "<style scoped>\n",
       "    .dataframe tbody tr th:only-of-type {\n",
       "        vertical-align: middle;\n",
       "    }\n",
       "\n",
       "    .dataframe tbody tr th {\n",
       "        vertical-align: top;\n",
       "    }\n",
       "\n",
       "    .dataframe thead th {\n",
       "        text-align: right;\n",
       "    }\n",
       "</style>\n",
       "<table border=\"1\" class=\"dataframe\">\n",
       "  <thead>\n",
       "    <tr style=\"text-align: right;\">\n",
       "      <th></th>\n",
       "      <th>model_filename</th>\n",
       "      <th>model_string</th>\n",
       "      <th>accuracy</th>\n",
       "      <th>precision</th>\n",
       "      <th>recall</th>\n",
       "      <th>f1</th>\n",
       "      <th>roc_auc</th>\n",
       "    </tr>\n",
       "  </thead>\n",
       "  <tbody>\n",
       "    <tr>\n",
       "      <th>4</th>\n",
       "      <td>1017545180110469376.pkl</td>\n",
       "      <td>AdaBoostClassifier(algorithm='SAMME.R', base_e...</td>\n",
       "      <td>0.800828</td>\n",
       "      <td>0.659652</td>\n",
       "      <td>0.502878</td>\n",
       "      <td>0.570043</td>\n",
       "      <td>0.845129</td>\n",
       "    </tr>\n",
       "    <tr>\n",
       "      <th>5</th>\n",
       "      <td>1126852098189955072.pkl</td>\n",
       "      <td>AdaBoostClassifier(algorithm='SAMME.R', base_e...</td>\n",
       "      <td>0.800828</td>\n",
       "      <td>0.659652</td>\n",
       "      <td>0.502878</td>\n",
       "      <td>0.570043</td>\n",
       "      <td>0.845129</td>\n",
       "    </tr>\n",
       "    <tr>\n",
       "      <th>15</th>\n",
       "      <td>382662255737366528.pkl</td>\n",
       "      <td>AdaBoostClassifier(algorithm='SAMME.R', base_e...</td>\n",
       "      <td>0.800070</td>\n",
       "      <td>0.650880</td>\n",
       "      <td>0.520863</td>\n",
       "      <td>0.578054</td>\n",
       "      <td>0.844914</td>\n",
       "    </tr>\n",
       "    <tr>\n",
       "      <th>28</th>\n",
       "      <td>2183524338018462976.pkl</td>\n",
       "      <td>AdaBoostClassifier(algorithm='SAMME.R', base_e...</td>\n",
       "      <td>0.800070</td>\n",
       "      <td>0.650880</td>\n",
       "      <td>0.520863</td>\n",
       "      <td>0.578054</td>\n",
       "      <td>0.844914</td>\n",
       "    </tr>\n",
       "    <tr>\n",
       "      <th>7</th>\n",
       "      <td>2228562323708752128.pkl</td>\n",
       "      <td>AdaBoostClassifier(algorithm='SAMME.R', base_e...</td>\n",
       "      <td>0.800070</td>\n",
       "      <td>0.650880</td>\n",
       "      <td>0.520863</td>\n",
       "      <td>0.578054</td>\n",
       "      <td>0.844914</td>\n",
       "    </tr>\n",
       "    <tr>\n",
       "      <th>1</th>\n",
       "      <td>2241896888290486528.pkl</td>\n",
       "      <td>AdaBoostClassifier(algorithm='SAMME.R', base_e...</td>\n",
       "      <td>0.800070</td>\n",
       "      <td>0.650880</td>\n",
       "      <td>0.520863</td>\n",
       "      <td>0.578054</td>\n",
       "      <td>0.844914</td>\n",
       "    </tr>\n",
       "    <tr>\n",
       "      <th>19</th>\n",
       "      <td>395018859412328704.pkl</td>\n",
       "      <td>AdaBoostClassifier(algorithm='SAMME.R', base_e...</td>\n",
       "      <td>0.800070</td>\n",
       "      <td>0.650880</td>\n",
       "      <td>0.520863</td>\n",
       "      <td>0.578054</td>\n",
       "      <td>0.844914</td>\n",
       "    </tr>\n",
       "    <tr>\n",
       "      <th>24</th>\n",
       "      <td>158305255602119168.pkl</td>\n",
       "      <td>AdaBoostClassifier(algorithm='SAMME.R', base_e...</td>\n",
       "      <td>0.800070</td>\n",
       "      <td>0.650880</td>\n",
       "      <td>0.520863</td>\n",
       "      <td>0.578054</td>\n",
       "      <td>0.844914</td>\n",
       "    </tr>\n",
       "    <tr>\n",
       "      <th>11</th>\n",
       "      <td>1509884050712260864.pkl</td>\n",
       "      <td>AdaBoostClassifier(algorithm='SAMME.R', base_e...</td>\n",
       "      <td>0.800070</td>\n",
       "      <td>0.650880</td>\n",
       "      <td>0.520863</td>\n",
       "      <td>0.578054</td>\n",
       "      <td>0.844914</td>\n",
       "    </tr>\n",
       "    <tr>\n",
       "      <th>20</th>\n",
       "      <td>484237217246198784.pkl</td>\n",
       "      <td>GradientBoostingClassifier(ccp_alpha=0.0, crit...</td>\n",
       "      <td>0.805940</td>\n",
       "      <td>0.671295</td>\n",
       "      <td>0.515827</td>\n",
       "      <td>0.582726</td>\n",
       "      <td>0.844507</td>\n",
       "    </tr>\n",
       "    <tr>\n",
       "      <th>2</th>\n",
       "      <td>2129564747755537920.pkl</td>\n",
       "      <td>GradientBoostingClassifier(ccp_alpha=0.0, crit...</td>\n",
       "      <td>0.805940</td>\n",
       "      <td>0.671295</td>\n",
       "      <td>0.515827</td>\n",
       "      <td>0.582726</td>\n",
       "      <td>0.844507</td>\n",
       "    </tr>\n",
       "    <tr>\n",
       "      <th>16</th>\n",
       "      <td>11166360157256192.pkl</td>\n",
       "      <td>GradientBoostingClassifier(ccp_alpha=0.0, crit...</td>\n",
       "      <td>0.805940</td>\n",
       "      <td>0.671295</td>\n",
       "      <td>0.515827</td>\n",
       "      <td>0.582726</td>\n",
       "      <td>0.844507</td>\n",
       "    </tr>\n",
       "    <tr>\n",
       "      <th>25</th>\n",
       "      <td>1647439854199289600.pkl</td>\n",
       "      <td>GradientBoostingClassifier(ccp_alpha=0.0, crit...</td>\n",
       "      <td>0.805940</td>\n",
       "      <td>0.671295</td>\n",
       "      <td>0.515827</td>\n",
       "      <td>0.582726</td>\n",
       "      <td>0.844505</td>\n",
       "    </tr>\n",
       "    <tr>\n",
       "      <th>12</th>\n",
       "      <td>1739609883467301376.pkl</td>\n",
       "      <td>GradientBoostingClassifier(ccp_alpha=0.0, crit...</td>\n",
       "      <td>0.805940</td>\n",
       "      <td>0.671295</td>\n",
       "      <td>0.515827</td>\n",
       "      <td>0.582726</td>\n",
       "      <td>0.844505</td>\n",
       "    </tr>\n",
       "    <tr>\n",
       "      <th>8</th>\n",
       "      <td>1630532964571742976.pkl</td>\n",
       "      <td>GradientBoostingClassifier(ccp_alpha=0.0, crit...</td>\n",
       "      <td>0.805940</td>\n",
       "      <td>0.671295</td>\n",
       "      <td>0.515827</td>\n",
       "      <td>0.582726</td>\n",
       "      <td>0.844505</td>\n",
       "    </tr>\n",
       "    <tr>\n",
       "      <th>29</th>\n",
       "      <td>649013611415713280.pkl</td>\n",
       "      <td>GradientBoostingClassifier(ccp_alpha=0.0, crit...</td>\n",
       "      <td>0.805940</td>\n",
       "      <td>0.671295</td>\n",
       "      <td>0.515827</td>\n",
       "      <td>0.582726</td>\n",
       "      <td>0.844505</td>\n",
       "    </tr>\n",
       "    <tr>\n",
       "      <th>13</th>\n",
       "      <td>1653986574811005184.pkl</td>\n",
       "      <td>RandomForestClassifier(bootstrap=True, ccp_alp...</td>\n",
       "      <td>0.779626</td>\n",
       "      <td>0.609451</td>\n",
       "      <td>0.458273</td>\n",
       "      <td>0.527337</td>\n",
       "      <td>0.813529</td>\n",
       "    </tr>\n",
       "    <tr>\n",
       "      <th>17</th>\n",
       "      <td>1426891701879939584.pkl</td>\n",
       "      <td>RandomForestClassifier(bootstrap=True, ccp_alp...</td>\n",
       "      <td>0.777354</td>\n",
       "      <td>0.608502</td>\n",
       "      <td>0.450360</td>\n",
       "      <td>0.516998</td>\n",
       "      <td>0.813132</td>\n",
       "    </tr>\n",
       "    <tr>\n",
       "      <th>30</th>\n",
       "      <td>1461724110737210368.pkl</td>\n",
       "      <td>RandomForestClassifier(bootstrap=True, ccp_alp...</td>\n",
       "      <td>0.780951</td>\n",
       "      <td>0.602161</td>\n",
       "      <td>0.457554</td>\n",
       "      <td>0.517955</td>\n",
       "      <td>0.811164</td>\n",
       "    </tr>\n",
       "    <tr>\n",
       "      <th>3</th>\n",
       "      <td>1050494775419860224.pkl</td>\n",
       "      <td>RandomForestClassifier(bootstrap=True, ccp_alp...</td>\n",
       "      <td>0.778299</td>\n",
       "      <td>0.615350</td>\n",
       "      <td>0.451079</td>\n",
       "      <td>0.512438</td>\n",
       "      <td>0.810875</td>\n",
       "    </tr>\n",
       "    <tr>\n",
       "      <th>26</th>\n",
       "      <td>771445054950758144.pkl</td>\n",
       "      <td>RandomForestClassifier(bootstrap=True, ccp_alp...</td>\n",
       "      <td>0.777166</td>\n",
       "      <td>0.610467</td>\n",
       "      <td>0.452518</td>\n",
       "      <td>0.524336</td>\n",
       "      <td>0.810835</td>\n",
       "    </tr>\n",
       "    <tr>\n",
       "      <th>21</th>\n",
       "      <td>1403367067319854848.pkl</td>\n",
       "      <td>RandomForestClassifier(bootstrap=True, ccp_alp...</td>\n",
       "      <td>0.776030</td>\n",
       "      <td>0.605514</td>\n",
       "      <td>0.461151</td>\n",
       "      <td>0.519833</td>\n",
       "      <td>0.810360</td>\n",
       "    </tr>\n",
       "    <tr>\n",
       "      <th>9</th>\n",
       "      <td>1402405456967305216.pkl</td>\n",
       "      <td>RandomForestClassifier(bootstrap=True, ccp_alp...</td>\n",
       "      <td>0.781709</td>\n",
       "      <td>0.613265</td>\n",
       "      <td>0.457554</td>\n",
       "      <td>0.525859</td>\n",
       "      <td>0.809719</td>\n",
       "    </tr>\n",
       "    <tr>\n",
       "      <th>22</th>\n",
       "      <td>1645620951684764672.pkl</td>\n",
       "      <td>SVC(C=1.0, break_ties=False, cache_size=200, c...</td>\n",
       "      <td>0.781900</td>\n",
       "      <td>0.644210</td>\n",
       "      <td>0.381295</td>\n",
       "      <td>0.478775</td>\n",
       "      <td>0.790909</td>\n",
       "    </tr>\n",
       "    <tr>\n",
       "      <th>14</th>\n",
       "      <td>2036994025399931648.pkl</td>\n",
       "      <td>DecisionTreeClassifier(ccp_alpha=0.0, class_we...</td>\n",
       "      <td>0.721697</td>\n",
       "      <td>0.486196</td>\n",
       "      <td>0.482734</td>\n",
       "      <td>0.479930</td>\n",
       "      <td>0.664674</td>\n",
       "    </tr>\n",
       "    <tr>\n",
       "      <th>6</th>\n",
       "      <td>2147582477394450688.pkl</td>\n",
       "      <td>DecisionTreeClassifier(ccp_alpha=0.0, class_we...</td>\n",
       "      <td>0.725671</td>\n",
       "      <td>0.478515</td>\n",
       "      <td>0.484173</td>\n",
       "      <td>0.477210</td>\n",
       "      <td>0.663814</td>\n",
       "    </tr>\n",
       "    <tr>\n",
       "      <th>23</th>\n",
       "      <td>1639563322063429632.pkl</td>\n",
       "      <td>DecisionTreeClassifier(ccp_alpha=0.0, class_we...</td>\n",
       "      <td>0.726808</td>\n",
       "      <td>0.481460</td>\n",
       "      <td>0.479856</td>\n",
       "      <td>0.482120</td>\n",
       "      <td>0.663023</td>\n",
       "    </tr>\n",
       "    <tr>\n",
       "      <th>27</th>\n",
       "      <td>1977999048657955072.pkl</td>\n",
       "      <td>DecisionTreeClassifier(ccp_alpha=0.0, class_we...</td>\n",
       "      <td>0.726809</td>\n",
       "      <td>0.476528</td>\n",
       "      <td>0.480576</td>\n",
       "      <td>0.479157</td>\n",
       "      <td>0.661243</td>\n",
       "    </tr>\n",
       "    <tr>\n",
       "      <th>0</th>\n",
       "      <td>35146618613511424.pkl</td>\n",
       "      <td>DecisionTreeClassifier(ccp_alpha=0.0, class_we...</td>\n",
       "      <td>0.726809</td>\n",
       "      <td>0.476914</td>\n",
       "      <td>0.482014</td>\n",
       "      <td>0.470755</td>\n",
       "      <td>0.660454</td>\n",
       "    </tr>\n",
       "    <tr>\n",
       "      <th>10</th>\n",
       "      <td>1135651312229991936.pkl</td>\n",
       "      <td>DecisionTreeClassifier(ccp_alpha=0.0, class_we...</td>\n",
       "      <td>0.727376</td>\n",
       "      <td>0.474252</td>\n",
       "      <td>0.476259</td>\n",
       "      <td>0.482207</td>\n",
       "      <td>0.659986</td>\n",
       "    </tr>\n",
       "    <tr>\n",
       "      <th>18</th>\n",
       "      <td>24810904411636480.pkl</td>\n",
       "      <td>DecisionTreeClassifier(ccp_alpha=0.0, class_we...</td>\n",
       "      <td>0.721885</td>\n",
       "      <td>0.477211</td>\n",
       "      <td>0.480576</td>\n",
       "      <td>0.473295</td>\n",
       "      <td>0.659605</td>\n",
       "    </tr>\n",
       "  </tbody>\n",
       "</table>\n",
       "</div>"
      ],
      "text/plain": [
       "             model_filename  \\\n",
       "4   1017545180110469376.pkl   \n",
       "5   1126852098189955072.pkl   \n",
       "15   382662255737366528.pkl   \n",
       "28  2183524338018462976.pkl   \n",
       "7   2228562323708752128.pkl   \n",
       "1   2241896888290486528.pkl   \n",
       "19   395018859412328704.pkl   \n",
       "24   158305255602119168.pkl   \n",
       "11  1509884050712260864.pkl   \n",
       "20   484237217246198784.pkl   \n",
       "2   2129564747755537920.pkl   \n",
       "16    11166360157256192.pkl   \n",
       "25  1647439854199289600.pkl   \n",
       "12  1739609883467301376.pkl   \n",
       "8   1630532964571742976.pkl   \n",
       "29   649013611415713280.pkl   \n",
       "13  1653986574811005184.pkl   \n",
       "17  1426891701879939584.pkl   \n",
       "30  1461724110737210368.pkl   \n",
       "3   1050494775419860224.pkl   \n",
       "26   771445054950758144.pkl   \n",
       "21  1403367067319854848.pkl   \n",
       "9   1402405456967305216.pkl   \n",
       "22  1645620951684764672.pkl   \n",
       "14  2036994025399931648.pkl   \n",
       "6   2147582477394450688.pkl   \n",
       "23  1639563322063429632.pkl   \n",
       "27  1977999048657955072.pkl   \n",
       "0     35146618613511424.pkl   \n",
       "10  1135651312229991936.pkl   \n",
       "18    24810904411636480.pkl   \n",
       "\n",
       "                                         model_string  accuracy  precision  \\\n",
       "4   AdaBoostClassifier(algorithm='SAMME.R', base_e...  0.800828   0.659652   \n",
       "5   AdaBoostClassifier(algorithm='SAMME.R', base_e...  0.800828   0.659652   \n",
       "15  AdaBoostClassifier(algorithm='SAMME.R', base_e...  0.800070   0.650880   \n",
       "28  AdaBoostClassifier(algorithm='SAMME.R', base_e...  0.800070   0.650880   \n",
       "7   AdaBoostClassifier(algorithm='SAMME.R', base_e...  0.800070   0.650880   \n",
       "1   AdaBoostClassifier(algorithm='SAMME.R', base_e...  0.800070   0.650880   \n",
       "19  AdaBoostClassifier(algorithm='SAMME.R', base_e...  0.800070   0.650880   \n",
       "24  AdaBoostClassifier(algorithm='SAMME.R', base_e...  0.800070   0.650880   \n",
       "11  AdaBoostClassifier(algorithm='SAMME.R', base_e...  0.800070   0.650880   \n",
       "20  GradientBoostingClassifier(ccp_alpha=0.0, crit...  0.805940   0.671295   \n",
       "2   GradientBoostingClassifier(ccp_alpha=0.0, crit...  0.805940   0.671295   \n",
       "16  GradientBoostingClassifier(ccp_alpha=0.0, crit...  0.805940   0.671295   \n",
       "25  GradientBoostingClassifier(ccp_alpha=0.0, crit...  0.805940   0.671295   \n",
       "12  GradientBoostingClassifier(ccp_alpha=0.0, crit...  0.805940   0.671295   \n",
       "8   GradientBoostingClassifier(ccp_alpha=0.0, crit...  0.805940   0.671295   \n",
       "29  GradientBoostingClassifier(ccp_alpha=0.0, crit...  0.805940   0.671295   \n",
       "13  RandomForestClassifier(bootstrap=True, ccp_alp...  0.779626   0.609451   \n",
       "17  RandomForestClassifier(bootstrap=True, ccp_alp...  0.777354   0.608502   \n",
       "30  RandomForestClassifier(bootstrap=True, ccp_alp...  0.780951   0.602161   \n",
       "3   RandomForestClassifier(bootstrap=True, ccp_alp...  0.778299   0.615350   \n",
       "26  RandomForestClassifier(bootstrap=True, ccp_alp...  0.777166   0.610467   \n",
       "21  RandomForestClassifier(bootstrap=True, ccp_alp...  0.776030   0.605514   \n",
       "9   RandomForestClassifier(bootstrap=True, ccp_alp...  0.781709   0.613265   \n",
       "22  SVC(C=1.0, break_ties=False, cache_size=200, c...  0.781900   0.644210   \n",
       "14  DecisionTreeClassifier(ccp_alpha=0.0, class_we...  0.721697   0.486196   \n",
       "6   DecisionTreeClassifier(ccp_alpha=0.0, class_we...  0.725671   0.478515   \n",
       "23  DecisionTreeClassifier(ccp_alpha=0.0, class_we...  0.726808   0.481460   \n",
       "27  DecisionTreeClassifier(ccp_alpha=0.0, class_we...  0.726809   0.476528   \n",
       "0   DecisionTreeClassifier(ccp_alpha=0.0, class_we...  0.726809   0.476914   \n",
       "10  DecisionTreeClassifier(ccp_alpha=0.0, class_we...  0.727376   0.474252   \n",
       "18  DecisionTreeClassifier(ccp_alpha=0.0, class_we...  0.721885   0.477211   \n",
       "\n",
       "      recall        f1   roc_auc  \n",
       "4   0.502878  0.570043  0.845129  \n",
       "5   0.502878  0.570043  0.845129  \n",
       "15  0.520863  0.578054  0.844914  \n",
       "28  0.520863  0.578054  0.844914  \n",
       "7   0.520863  0.578054  0.844914  \n",
       "1   0.520863  0.578054  0.844914  \n",
       "19  0.520863  0.578054  0.844914  \n",
       "24  0.520863  0.578054  0.844914  \n",
       "11  0.520863  0.578054  0.844914  \n",
       "20  0.515827  0.582726  0.844507  \n",
       "2   0.515827  0.582726  0.844507  \n",
       "16  0.515827  0.582726  0.844507  \n",
       "25  0.515827  0.582726  0.844505  \n",
       "12  0.515827  0.582726  0.844505  \n",
       "8   0.515827  0.582726  0.844505  \n",
       "29  0.515827  0.582726  0.844505  \n",
       "13  0.458273  0.527337  0.813529  \n",
       "17  0.450360  0.516998  0.813132  \n",
       "30  0.457554  0.517955  0.811164  \n",
       "3   0.451079  0.512438  0.810875  \n",
       "26  0.452518  0.524336  0.810835  \n",
       "21  0.461151  0.519833  0.810360  \n",
       "9   0.457554  0.525859  0.809719  \n",
       "22  0.381295  0.478775  0.790909  \n",
       "14  0.482734  0.479930  0.664674  \n",
       "6   0.484173  0.477210  0.663814  \n",
       "23  0.479856  0.482120  0.663023  \n",
       "27  0.480576  0.479157  0.661243  \n",
       "0   0.482014  0.470755  0.660454  \n",
       "10  0.476259  0.482207  0.659986  \n",
       "18  0.480576  0.473295  0.659605  "
      ]
     },
     "execution_count": 33,
     "metadata": {},
     "output_type": "execute_result"
    }
   ],
   "source": [
    "model_results.sort_values(by='roc_auc', ascending=False)"
   ]
  },
  {
   "cell_type": "code",
   "execution_count": null,
   "metadata": {},
   "outputs": [],
   "source": []
  }
 ],
 "metadata": {
  "kernelspec": {
   "display_name": "Python 3",
   "language": "python",
   "name": "python3"
  },
  "language_info": {
   "codemirror_mode": {
    "name": "ipython",
    "version": 3
   },
   "file_extension": ".py",
   "mimetype": "text/x-python",
   "name": "python",
   "nbconvert_exporter": "python",
   "pygments_lexer": "ipython3",
   "version": "3.8.2"
  }
 },
 "nbformat": 4,
 "nbformat_minor": 4
}
