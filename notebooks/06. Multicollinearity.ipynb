{
 "cells": [
  {
   "cell_type": "code",
   "execution_count": 1,
   "metadata": {},
   "outputs": [
    {
     "name": "stdout",
     "output_type": "stream",
     "text": [
      "/Users/karthikmaddukuri/anaconda3/envs/churn-model/bin/python3\r\n"
     ]
    }
   ],
   "source": [
    "!which python3"
   ]
  },
  {
   "cell_type": "code",
   "execution_count": 2,
   "metadata": {},
   "outputs": [],
   "source": [
    "%load_ext autoreload\n",
    "%autoreload 2"
   ]
  },
  {
   "cell_type": "code",
   "execution_count": 6,
   "metadata": {},
   "outputs": [],
   "source": [
    "# Standard imports\n",
    "import os\n",
    "import pickle\n",
    "import sys\n",
    "sys.path.append('..')  #To let jupyter notebook to look one folder up\n",
    "\n",
    "#Third-party imports\n",
    "import numpy as np\n",
    "import pandas as pd\n",
    "import matplotlib.pyplot as plt\n",
    "import seaborn as sns\n",
    "import sklearn\n",
    "from sklearn.ensemble import ( AdaBoostClassifier, GradientBoostingClassifier, \n",
    "                              RandomForestClassifier\n",
    "                             )\n",
    "from sklearn.inspection import plot_partial_dependence\n",
    "from sklearn.metrics import roc_curve\n",
    "from sklearn.linear_model import LogisticRegression\n",
    "from sklearn.model_selection import train_test_split, cross_val_score, learning_curve\n",
    "from sklearn.tree import DecisionTreeClassifier\n",
    "from statsmodels.stats.outliers_influence import variance_inflation_factor\n",
    "\n",
    "#Local imports\n",
    "from src.localpaths import *\n",
    "from src.data.make_dataset import load_training_data\n",
    "from src.models.train_model import *"
   ]
  },
  {
   "cell_type": "code",
   "execution_count": 4,
   "metadata": {},
   "outputs": [],
   "source": [
    "#Configuration for notebooks\n",
    "\n",
    "# pd.options.display.max_columns = 100\n",
    "pd.set_option('display.max_columns', 100)\n",
    "pd.set_option('display.max_rows', 100)"
   ]
  },
  {
   "cell_type": "markdown",
   "metadata": {},
   "source": [
    "# Load Featurized Data "
   ]
  },
  {
   "cell_type": "code",
   "execution_count": 5,
   "metadata": {},
   "outputs": [],
   "source": [
    "X_train, y_train = load_training_data(final=True)"
   ]
  },
  {
   "cell_type": "markdown",
   "metadata": {},
   "source": [
    "# Feature Multicollinearity"
   ]
  },
  {
   "cell_type": "code",
   "execution_count": 13,
   "metadata": {},
   "outputs": [
    {
     "name": "stderr",
     "output_type": "stream",
     "text": [
      "/Users/karthikmaddukuri/anaconda3/envs/churn-model/lib/python3.8/site-packages/statsmodels/stats/outliers_influence.py:193: RuntimeWarning: divide by zero encountered in double_scalars\n",
      "  vif = 1. / (1. - r_squared_i)\n"
     ]
    }
   ],
   "source": [
    "vifs = [variance_inflation_factor(X_train.values,i) for i in range(len(X_train.columns))]"
   ]
  },
  {
   "cell_type": "code",
   "execution_count": 21,
   "metadata": {},
   "outputs": [
    {
     "data": {
      "text/plain": [
       "[1.0029253451164717,\n",
       " 1.1524490787143984,\n",
       " 1.4622286104923994,\n",
       " 1.3768800344471095,\n",
       " 7.528269480250208,\n",
       " 1795.2936129533036,\n",
       " 1.2187874943183166,\n",
       " 879.4071653278096,\n",
       " 10.871762430587555,\n",
       " 61.269312275148884,\n",
       " 7.388728481143919,\n",
       " 150.413015558894,\n",
       " inf,\n",
       " inf,\n",
       " 6.478979774573932,\n",
       " inf,\n",
       " 6.911783532524887,\n",
       " inf,\n",
       " 6.990713871204519,\n",
       " inf,\n",
       " 6.498500323508462,\n",
       " inf,\n",
       " 24.573123044650014,\n",
       " inf,\n",
       " 24.400188765894438,\n",
       " 1.6328101814762768,\n",
       " 2.6312318158444175,\n",
       " 1.5579786757164678,\n",
       " 1.9381234819755606,\n",
       " 1.8500671539360292]"
      ]
     },
     "execution_count": 21,
     "metadata": {},
     "output_type": "execute_result"
    }
   ],
   "source": [
    "vifs"
   ]
  },
  {
   "cell_type": "code",
   "execution_count": 51,
   "metadata": {},
   "outputs": [
    {
     "data": {
      "text/plain": [
       "[('InternetService_No', inf),\n",
       " ('OnlineSecurity_No internet service', inf),\n",
       " ('OnlineBackup_No internet service', inf),\n",
       " ('DeviceProtection_No internet service', inf),\n",
       " ('TechSupport_No internet service', inf),\n",
       " ('StreamingTV_No internet service', inf),\n",
       " ('StreamingMovies_No internet service', inf),\n",
       " ('PhoneService', 1795.2936129533036),\n",
       " ('MonthlyCharges', 879.4071653278096),\n",
       " ('InternetService_Fiber optic', 150.413015558894),\n",
       " ('MultipleLines_No phone service', 61.269312275148884),\n",
       " ('StreamingTV_Yes', 24.573123044650014),\n",
       " ('StreamingMovies_Yes', 24.400188765894438),\n",
       " ('TotalCharges', 10.871762430587555),\n",
       " ('tenure', 7.528269480250208),\n",
       " ('MultipleLines_Yes', 7.388728481143919),\n",
       " ('DeviceProtection_Yes', 6.990713871204519),\n",
       " ('OnlineBackup_Yes', 6.911783532524887),\n",
       " ('TechSupport_Yes', 6.498500323508462),\n",
       " ('OnlineSecurity_Yes', 6.478979774573932),\n",
       " ('Contract_Two year', 2.6312318158444175),\n",
       " ('PaymentMethod_Electronic check', 1.9381234819755606),\n",
       " ('PaymentMethod_Mailed check', 1.8500671539360292),\n",
       " ('Contract_One year', 1.6328101814762768),\n",
       " ('PaymentMethod_Credit card (automatic)', 1.5579786757164678),\n",
       " ('Partner', 1.4622286104923994),\n",
       " ('Dependents', 1.3768800344471095),\n",
       " ('PaperlessBilling', 1.2187874943183166),\n",
       " ('SeniorCitizen', 1.1524490787143984),\n",
       " ('gender', 1.0029253451164717)]"
      ]
     },
     "execution_count": 51,
     "metadata": {},
     "output_type": "execute_result"
    }
   ],
   "source": [
    "sorted(zip(X_train.columns, vifs), key=lambda x: x[1], reverse=True)"
   ]
  },
  {
   "cell_type": "code",
   "execution_count": 52,
   "metadata": {},
   "outputs": [
    {
     "data": {
      "text/plain": [
       "[('InternetService_No', inf),\n",
       " ('OnlineSecurity_No internet service', inf),\n",
       " ('OnlineBackup_No internet service', inf),\n",
       " ('DeviceProtection_No internet service', inf),\n",
       " ('TechSupport_No internet service', inf),\n",
       " ('StreamingTV_No internet service', inf),\n",
       " ('StreamingMovies_No internet service', inf),\n",
       " ('PhoneService', 1795.2936129533036),\n",
       " ('MonthlyCharges', 879.4071653278096),\n",
       " ('InternetService_Fiber optic', 150.413015558894),\n",
       " ('MultipleLines_No phone service', 61.269312275148884),\n",
       " ('StreamingTV_Yes', 24.573123044650014),\n",
       " ('StreamingMovies_Yes', 24.400188765894438),\n",
       " ('TotalCharges', 10.871762430587555),\n",
       " ('tenure', 7.528269480250208),\n",
       " ('MultipleLines_Yes', 7.388728481143919),\n",
       " ('DeviceProtection_Yes', 6.990713871204519),\n",
       " ('OnlineBackup_Yes', 6.911783532524887),\n",
       " ('TechSupport_Yes', 6.498500323508462),\n",
       " ('OnlineSecurity_Yes', 6.478979774573932),\n",
       " ('Contract_Two year', 2.6312318158444175),\n",
       " ('PaymentMethod_Electronic check', 1.9381234819755606),\n",
       " ('PaymentMethod_Mailed check', 1.8500671539360292),\n",
       " ('Contract_One year', 1.6328101814762768),\n",
       " ('PaymentMethod_Credit card (automatic)', 1.5579786757164678),\n",
       " ('Partner', 1.4622286104923994),\n",
       " ('Dependents', 1.3768800344471095),\n",
       " ('PaperlessBilling', 1.2187874943183166),\n",
       " ('SeniorCitizen', 1.1524490787143984),\n",
       " ('gender', 1.0029253451164717)]"
      ]
     },
     "execution_count": 52,
     "metadata": {},
     "output_type": "execute_result"
    }
   ],
   "source": [
    "a = sorted(zip(X_train.columns, vifs), key=lambda x: x[1], reverse=True)\n",
    "a"
   ]
  },
  {
   "cell_type": "code",
   "execution_count": null,
   "metadata": {},
   "outputs": [],
   "source": []
  }
 ],
 "metadata": {
  "kernelspec": {
   "display_name": "Python 3",
   "language": "python",
   "name": "python3"
  },
  "language_info": {
   "codemirror_mode": {
    "name": "ipython",
    "version": 3
   },
   "file_extension": ".py",
   "mimetype": "text/x-python",
   "name": "python",
   "nbconvert_exporter": "python",
   "pygments_lexer": "ipython3",
   "version": "3.8.2"
  }
 },
 "nbformat": 4,
 "nbformat_minor": 4
}
